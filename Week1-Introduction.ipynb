{
 "cells": [
  {
   "cell_type": "markdown",
   "metadata": {},
   "source": [
    "# Week 1 - Introduction\n",
    "\n",
    "A quick introduction to git and python.\n",
    "\n",
    "Please run through this tutorial on [how git](https://try.github.io/) functions. Further reading on git [exists here](http://swcarpentry.github.io/git-novice/).\n",
    "\n",
    "For an introduction to python programming, please follow the tutorials [here](http://swcarpentry.github.io/python-novice-inflammation/) and [here](https://swcarpentry.github.io/python-novice-gapminder/).\n",
    "\n",
    "We will cover certain aspects of python programming and specific packages throughout the course. However, at the end of these tutorials, you should be comfortable with the exercises below."
   ]
  },
  {
   "cell_type": "code",
   "execution_count": 2,
   "metadata": {},
   "outputs": [],
   "source": [
    "%matplotlib inline\n",
    "import numpy as np\n",
    "from sklearn import datasets\n",
    "import matplotlib.pyplot as plt"
   ]
  },
  {
   "cell_type": "markdown",
   "metadata": {},
   "source": [
    "#### (1) Write a function that stores the first 100 numbers of the fibannaci sequence in a numpy array.\n",
    "\n",
    "Then write two assertions as tests of your function."
   ]
  },
  {
   "cell_type": "code",
   "execution_count": 42,
   "metadata": {},
   "outputs": [],
   "source": [
    "# Answer\n",
    "def fibSeq():\n",
    "    fibArray = np.zeros([100,1])\n",
    "    fibArray[0] = 1\n",
    "    fibArray[1] = 1\n",
    "    for i in range(2,100):\n",
    "        fibArray[i] = fibArray[i-2] + fibArray[i-1]\n",
    "    return fibArray\n",
    "\n",
    "a = fibSeq()\n",
    "assert a[3] == 3\n",
    "assert a[4] == 5\n"
   ]
  },
  {
   "cell_type": "markdown",
   "metadata": {},
   "source": [
    "#### (2) Import test.csv, and plot the data, labeling the X and Y axes."
   ]
  },
  {
   "cell_type": "code",
   "execution_count": 5,
   "metadata": {},
   "outputs": [
    {
     "data": {
      "text/plain": [
       "Text(0, 0.5, 'Home Prices')"
      ]
     },
     "execution_count": 5,
     "metadata": {},
     "output_type": "execute_result"
    },
    {
     "data": {
      "image/png": "[encoded data removed]",
      "text/plain": [
       "<Figure size 432x288 with 1 Axes>"
      ]
     },
     "metadata": {
      "needs_background": "light"
     },
     "output_type": "display_data"
    }
   ],
   "source": [
    "boston = datasets.load_boston()\n",
    "\n",
    "y = boston.target\n",
    "x = boston.data[:, 0]\n",
    "ylabel = \"Home Prices\"\n",
    "xlabel = \"Crime\"\n",
    "\n",
    "# Answer\n",
    "\n",
    "plt.scatter(x,y)\n",
    "plt.xlabel(xlabel)\n",
    "plt.ylabel(ylabel)"
   ]
  },
  {
   "cell_type": "markdown",
   "metadata": {},
   "source": [
    "#### (3) Write a function that satisfies the assertions below."
   ]
  },
  {
   "cell_type": "code",
   "execution_count": 4,
   "metadata": {},
   "outputs": [],
   "source": [
    "# Function here\n",
    "def func(a,b):\n",
    "    return 2*b + a\n",
    "\n",
    "\n",
    "assert(func(0, 20) == 40)\n",
    "assert(func(1, 10) == 21)\n",
    "assert(func(2, 5) == 12)\n",
    "assert(func(3, 2) == 7)\n",
    "assert(func(4, 1) == 6)"
   ]
  },
  {
   "cell_type": "markdown",
   "metadata": {},
   "source": [
    "#### (4) Briefly describe one skill and/or ability you would like to take away from this class."
   ]
  },
  {
   "cell_type": "code",
   "execution_count": null,
   "metadata": {},
   "outputs": [],
   "source": []
  },
  {
   "cell_type": "markdown",
   "metadata": {},
   "source": [
    "I would like to be able to implement machine learning to various bioengineering application. My highest expectation is that I can implement it to medical imaging and how it may be able to diagnoze certain anomalies in the patient's body as the machine scanned them."
   ]
  },
  {
   "cell_type": "markdown",
   "metadata": {},
   "source": [
    "#### (5) Describe your previous experience with programming, statistics, and modeling, including courses and which languages you've used. There is no wrong answer here—this will help us better tailor the class."
   ]
  },
  {
   "cell_type": "markdown",
   "metadata": {},
   "source": [
    "I have never taken any statistics course before. I had little bit of background in Java and C++, also limited experience working with MATLAB. I am currently working in Dr. Meyer's lab to model a receptor. So far, my relevant experience in regards to this class has only been my experience with Dr. Meyer"
   ]
  },
  {
   "cell_type": "markdown",
   "metadata": {},
   "source": [
    "#### (6) Commit these files to git with a descriptive message."
   ]
  }
 ],
 "metadata": {
  "kernel_info": {
   "name": "python3"
  },
  "kernelspec": {
   "display_name": "Python 3",
   "language": "python",
   "name": "python3"
  },
  "language_info": {
   "codemirror_mode": {
    "name": "ipython",
    "version": 3
   },
   "file_extension": ".py",
   "mimetype": "text/x-python",
   "name": "python",
   "nbconvert_exporter": "python",
   "pygments_lexer": "ipython3",
   "version": "3.7.4"
  },
  "nteract": {
   "version": "0.3.4"
  }
 },
 "nbformat": 4,
 "nbformat_minor": 4
}
